{
 "cells": [
  {
   "cell_type": "markdown",
   "metadata": {},
   "source": [
    "# iml Tutorial: Interpreting black box machine learning models"
   ]
  },
  {
   "cell_type": "markdown",
   "metadata": {},
   "source": [
    "In this tutorial you will learn interactively how to make black box machine learning models interpretable using the iml package"
   ]
  },
  {
   "cell_type": "markdown",
   "metadata": {},
   "source": [
    "Machine learning models usually perform really well for predictions, but are not interpretable.\n",
    "The iml package provides tools for analysing any black box machine learning model:\n",
    "\n",
    "* Feature importance: Which were the most important features?\n",
    "\n",
    "* Feature effects: How does a feature influence the prediction? (Partial dependence plots and individual conditional expectation curves)\n",
    "\n",
    "* Explanations for single predictions: How did the feature values of a single data point affect its prediction?  (LIME and Shapley value)\n",
    "\n",
    "* Surrogate trees: Can we approximate the underlying black box model with a short decision tree?\n",
    "\n",
    "* The iml package works for any classification and regression machine learning model: random forests, linear models, neural networks, xgboost, etc.\n",
    "\n",
    "This document shows you how to use the iml package to analyse machine learning models. \n",
    "\n",
    "If you want to learn more about the technical details of all the methods, read chapters from: https://christophm.github.io/interpretable-ml-book/agnostic.html\n"
   ]
  },
  {
   "cell_type": "code",
   "execution_count": null,
   "metadata": {},
   "outputs": [],
   "source": [
    "# Loading the packages\n",
    "library(iml)\n",
    "# We use the mlr package for training the machine learning models\n",
    "library(mlr)"
   ]
  },
  {
   "cell_type": "code",
   "execution_count": null,
   "metadata": {
    "collapsed": true
   },
   "outputs": [],
   "source": [
    "set.seed(1014)"
   ]
  },
  {
   "cell_type": "markdown",
   "metadata": {},
   "source": [
    "We'll use the `MASS::Boston` dataset to demonstrate the abilities of the iml package. This dataset contains median house values from Boston neighbourhoods. "
   ]
  },
  {
   "cell_type": "code",
   "execution_count": null,
   "metadata": {},
   "outputs": [],
   "source": [
    "data(\"Boston\", package  = \"MASS\")\n",
    "head(Boston)"
   ]
  },
  {
   "cell_type": "markdown",
   "metadata": {},
   "source": [
    "First we train a randomForest to predict the Boston median housing value:\n"
   ]
  },
  {
   "cell_type": "code",
   "execution_count": null,
   "metadata": {},
   "outputs": [],
   "source": [
    "data(\"Boston\", package  = \"MASS\")\n",
    "lrn = makeLearner(\"regr.randomForest\", ntree = 50)\n",
    "task = makeRegrTask(data = Boston, target = \"medv\")\n",
    "rf = train(learner = lrn, task = task)"
   ]
  },
  {
   "cell_type": "markdown",
   "metadata": {},
   "source": [
    "We create a `Predictor` object, that holds the model and the data. The iml package uses R6 classes: New objects can be created by calling `Predictor$new()`."
   ]
  },
  {
   "cell_type": "code",
   "execution_count": null,
   "metadata": {
    "collapsed": true
   },
   "outputs": [],
   "source": [
    "X = Boston[which(names(Boston) != \"medv\")]\n",
    "predictor = Predictor$new(rf, data = X, y = Boston$medv)"
   ]
  },
  {
   "cell_type": "markdown",
   "metadata": {},
   "source": [
    "## Feature importance\n",
    "\n",
    "We can measure how important each feature was for the predictions with `FeatureImp`. The feature importance measure works by shuffling each feature and measuring how much the performance drops. For this regression task we choose to measure the loss in performance with the mean absolute error ('mae'), another choice would be the  mean squared error ('mse').\n",
    "\n",
    "\n",
    "Once we create a new object of `FeatureImp`, the importance is automatically computed. \n",
    "We can call the `plot()` function of the object or look at the results in a data.frame."
   ]
  },
  {
   "cell_type": "code",
   "execution_count": null,
   "metadata": {},
   "outputs": [],
   "source": [
    "imp = FeatureImp$new(predictor, loss = \"mae\")\n",
    "plot(imp)\n",
    "imp$results"
   ]
  },
  {
   "cell_type": "markdown",
   "metadata": {},
   "source": [
    "## Partial dependence\n",
    "\n",
    "Besides knowing which features were important, we are interested in how the features influence the predicted outcome. The `Partial` class implements partial dependence plots and individual conditional expectation curves. Each individual line represents the predictions (y-axis) for one data point when we change one of the features (e.g. 'lstat' on the x-axis). The highlighted line is the point-wise average of the individual lines and equals the partial dependence plot. The marks on the x-axis indicates the distribution of the 'lstat' feature, showing how relevant a region is for interpretation (little or no points mean that we should not over-interpret this region).\n"
   ]
  },
  {
   "cell_type": "code",
   "execution_count": null,
   "metadata": {},
   "outputs": [],
   "source": [
    "pdp.obj = Partial$new(predictor, feature = \"lstat\")\n",
    "pdp.obj$plot()"
   ]
  },
  {
   "cell_type": "markdown",
   "metadata": {},
   "source": [
    "If we want to compute the partial dependence curves on another feature, we can simply reset the feature:"
   ]
  },
  {
   "cell_type": "code",
   "execution_count": null,
   "metadata": {},
   "outputs": [],
   "source": [
    "pdp.obj$set.feature(\"rm\")\n",
    "pdp.obj$plot()"
   ]
  },
  {
   "cell_type": "markdown",
   "metadata": {},
   "source": [
    "We can center the curves at a feature value of our choice, which makes it easier to see the trend of the curves:\n"
   ]
  },
  {
   "cell_type": "code",
   "execution_count": null,
   "metadata": {},
   "outputs": [],
   "source": [
    "pdp.obj$center(min(Boston$rm))\n",
    "pdp.obj$plot()"
   ]
  },
  {
   "cell_type": "markdown",
   "metadata": {},
   "source": [
    "## Surrogate model\n",
    "Another way to make the models more interpretable is to replace the black box with a simpler model - a decision tree. We take the predictions of the black box model (in our case the random forest) and train a decision tree on the original features and the predicted outcome. \n",
    "The plot shows the terminal nodes of the fitted tree.\n",
    "The maxdepth parameter controls how deep the tree can grow and therefore how interpretable it is.\n"
   ]
  },
  {
   "cell_type": "code",
   "execution_count": null,
   "metadata": {},
   "outputs": [],
   "source": [
    "tree = TreeSurrogate$new(predictor, maxdepth = 2)\n",
    "plot(tree)"
   ]
  },
  {
   "cell_type": "markdown",
   "metadata": {},
   "source": [
    "We can use the tree to make predictions:\n"
   ]
  },
  {
   "cell_type": "code",
   "execution_count": null,
   "metadata": {},
   "outputs": [],
   "source": [
    "head(tree$predict(Boston))"
   ]
  },
  {
   "cell_type": "markdown",
   "metadata": {},
   "source": [
    "## Explain single predictions with a local model\n",
    "Global surrogate model can improve the understanding of the global model behaviour. \n",
    "We can also fit a model locally to understand an individual prediction better. The local model fitted by `LocalModel` is a linear regression model and the data points are weighted by how close they are to the data point for wich we want to explain the prediction.\n"
   ]
  },
  {
   "cell_type": "code",
   "execution_count": null,
   "metadata": {},
   "outputs": [],
   "source": [
    "lime.explain = LocalModel$new(predictor, x.interest = X[1,])\n",
    "lime.explain$results\n",
    "plot(lime.explain)"
   ]
  },
  {
   "cell_type": "code",
   "execution_count": null,
   "metadata": {},
   "outputs": [],
   "source": [
    "lime.explain$explain(X[2,])\n",
    "plot(lime.explain)"
   ]
  },
  {
   "cell_type": "markdown",
   "metadata": {},
   "source": [
    "\n",
    "## Explain single predictions with game theory\n",
    "An alternative for explaining individual predictions is a method from coalitional game theory named Shapley value.\n",
    "Assume that for one data point, the feature values play a game together, in which they get the prediction as a payout. The Shapley value tells us how to fairly distribute the payout among the feature values.\n"
   ]
  },
  {
   "cell_type": "code",
   "execution_count": null,
   "metadata": {},
   "outputs": [],
   "source": [
    "shapley = Shapley$new(predictor, x.interest = X[1,])\n",
    "shapley$plot()"
   ]
  },
  {
   "cell_type": "markdown",
   "metadata": {},
   "source": [
    "Re-use the object to explain other data points:\n"
   ]
  },
  {
   "cell_type": "code",
   "execution_count": null,
   "metadata": {},
   "outputs": [],
   "source": [
    "shapley$explain(x.interest = X[2,])\n",
    "shapley$plot()"
   ]
  },
  {
   "cell_type": "markdown",
   "metadata": {},
   "source": [
    "The results in data.frame form can be extracted like this:\n"
   ]
  },
  {
   "cell_type": "code",
   "execution_count": null,
   "metadata": {},
   "outputs": [],
   "source": [
    "\n",
    "results = shapley$results\n",
    "head(results)\n"
   ]
  }
 ],
 "metadata": {
  "kernelspec": {
   "display_name": "R",
   "language": "R",
   "name": "ir"
  },
  "language_info": {
   "codemirror_mode": "r",
   "file_extension": ".r",
   "mimetype": "text/x-r-source",
   "name": "R",
   "pygments_lexer": "r",
   "version": "3.3.3"
  }
 },
 "nbformat": 4,
 "nbformat_minor": 1
}
